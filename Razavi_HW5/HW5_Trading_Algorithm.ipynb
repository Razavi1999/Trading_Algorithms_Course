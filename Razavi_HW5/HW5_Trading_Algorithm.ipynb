{
  "nbformat": 4,
  "nbformat_minor": 0,
  "metadata": {
    "colab": {
      "provenance": []
    },
    "kernelspec": {
      "name": "python3",
      "display_name": "Python 3"
    },
    "language_info": {
      "name": "python"
    }
  },
  "cells": [
    {
      "cell_type": "markdown",
      "source": [
        "# Half Life of time-seri"
      ],
      "metadata": {
        "id": "vIJy8hlyCOJV"
      }
    },
    {
      "cell_type": "code",
      "source": [
        "import numpy as np\n",
        "import statsmodels.api as sm\n",
        "from math import log\n",
        "\n",
        "\n",
        "def half_life(z_array):\n",
        "  z_lag = np.roll(z_array,1)\n",
        "  z_lag[0] = 0\n",
        "  z_ret = z_array - z_lag\n",
        "  z_ret[0] = 0\n",
        "\n",
        "  #adds intercept terms to X variable for regression\n",
        "  z_lag2 = sm.add_constant(z_lag)\n",
        "\n",
        "  model = sm.OLS(z_ret,z_lag2)\n",
        "  res = model.fit()\n",
        "\n",
        "  halflife = -log(2) / res.params[1]\n",
        "\n",
        "  return halflife\n"
      ],
      "metadata": {
        "id": "EYHRjF1fhhRb"
      },
      "execution_count": null,
      "outputs": []
    },
    {
      "cell_type": "code",
      "source": [
        "# Define the ticker list\n",
        "# Fetch the data\n",
        "import yfinance as yf\n",
        "import pandas as pd\n",
        "# import statsmodels.formula.api\n",
        "import statsmodels.api\n",
        "\n",
        "tickers_list = ['AAPL', 'MSFT', 'AMZN' , 'NVDA' , 'GOOGL' , 'GOOG' ,\n",
        "                'XOM' , 'META' , 'TSLA' , 'UNH'\n",
        "]\n",
        "\n",
        "\n",
        "data = yf.download(tickers_list , start = \"2022-5-1\" , end = \"2023-5-1\")['Close']\n",
        "\n",
        "\n",
        "result = statsmodels.tsa.vector_ar.vecm.coint_johansen(data[['AAPL' , 'MSFT' , 'AMZN']],\n",
        "                                                       det_order = 0  ,\n",
        "                                                       k_ar_diff = 3)\n",
        "\n",
        "\n",
        "print(f'result.trace_stat : {result.trace_stat}\\n\\n')\n",
        "# print(f'result.trace_stat_crit_vals : \\n {result.trace_stat_crit_vals}\\n\\n')\n",
        "\n",
        "print(f'result.max_eig_stat : {result.max_eig_stat}')\n",
        "\n",
        "# print(result.)\n",
        "h1 = result.max_eig_stat[0]\n",
        "h2 = result.max_eig_stat[1]\n",
        "h3 = result.max_eig_stat[2]\n",
        "\n",
        "\n",
        "\n",
        "\n",
        "new_stationary_seri = h1 * data['AAPL'] + h2 * data['MSFT'] + h3 * data['AMZN']\n",
        "new_stationary_seri\n",
        "\n",
        "# print('-----------------------------')\n",
        "\n",
        "adf(new_stationary_seri)\n",
        "\n",
        "# for each in result:\n",
        "#   print(each)\n",
        "# print(result)\n"
      ],
      "metadata": {
        "colab": {
          "base_uri": "https://localhost:8080/"
        },
        "id": "oyjrMcSOCTlw",
        "outputId": "9a4af0cc-3816-42c0-8876-3d9c07326341"
      },
      "execution_count": null,
      "outputs": [
        {
          "output_type": "stream",
          "name": "stdout",
          "text": [
            "[*********************100%***********************]  10 of 10 completed\n",
            "result.trace_stat : [16.00949355  4.72392573  0.38916696]\n",
            "\n",
            "\n",
            "result.max_eig_stat : [11.28556782  4.33475877  0.38916696]\n"
          ]
        },
        {
          "output_type": "execute_result",
          "data": {
            "text/plain": [
              "0.32270158546441574"
            ]
          },
          "metadata": {},
          "execution_count": 12
        }
      ]
    },
    {
      "cell_type": "markdown",
      "source": [
        "# Johansen Test Function"
      ],
      "metadata": {
        "id": "_4EAMUP1Dp9n"
      }
    },
    {
      "cell_type": "code",
      "source": [
        "import yfinance as yf\n",
        "import pandas as pd\n",
        "import matplotlib.pyplot as plt\n",
        "from hurst import compute_Hc, random_walk\n",
        "import statsmodels.api\n",
        "\n",
        "\n",
        "# data = yf.download(tickers_list , start = \"2022-5-1\" , end = \"2023-5-1\")['Close']\n",
        "# global data\n",
        "\n",
        "\n",
        "p_values_stocks = {}\n",
        "hurst_exponent_stocks = {}\n",
        "half_life_stocks = {}\n",
        "\n",
        "def johansen_test(data , column1 , column2 , column3):\n",
        "    # data = yf.download(tickers_list , start = \"2022-5-1\" , end = \"2023-5-1\")['Close']\n",
        "\n",
        "\n",
        "    result = statsmodels.tsa.vector_ar.vecm.coint_johansen(data[[column1 , column2 , column3]],\n",
        "                                                          det_order = 0  ,\n",
        "                                                          k_ar_diff = 3)\n",
        "\n",
        "\n",
        "    # print(f'{column1} , {column2} , {column3}')\n",
        "    # print(f'result.max_eig_stat : {result.max_eig_stat}')\n",
        "\n",
        "    h1 = result.max_eig_stat[0]\n",
        "    h2 = result.max_eig_stat[1]\n",
        "    h3 = result.max_eig_stat[2]\n",
        "\n",
        "    new_stationary_seri = h1 * data[column1] + h2 * data[column2] + h3 * data[column3]\n",
        "    # new_stationary_seri\n",
        "\n",
        "    # Evaluate Hurst equation\n",
        "    hurst , c, data = compute_Hc(new_stationary_seri , kind='price', simplified=True)\n",
        "\n",
        "    # print('----------------------------------')\n",
        "    p_value = adf(new_stationary_seri)\n",
        "\n",
        "    key = column1 + ' , ' + column2 + ' , ' + column3\n",
        "\n",
        "    p_values_stocks[key] = p_value\n",
        "    hurst_exponent_stocks[key] = hurst\n",
        "\n",
        "    half = half_life(new_stationary_seri)\n",
        "    half_life_stocks[key] = half\n",
        "\n",
        "\n",
        "\n",
        "    if p_value < 0.1 :\n",
        "      print('\\lr{ ')\n",
        "      print(key)\n",
        "      print('}')\n",
        "      print()\n",
        "\n",
        "      print('\\lr{ ')\n",
        "      print(f'-------------  pValue : {p_value}       -----')\n",
        "      print('}')\n",
        "      print()\n",
        "\n",
        "      print('\\lr{ ')\n",
        "      print(f'-------------  hurst : {hurst}           -----')\n",
        "      print('}')\n",
        "      print()\n",
        "\n",
        "      print('\\lr{ ')\n",
        "      print(f'-------------  halfLife : {half}        -----')\n",
        "      print('}')\n",
        "      print()\n",
        "\n"
      ],
      "metadata": {
        "id": "yvVf254dDtWx"
      },
      "execution_count": 47,
      "outputs": []
    },
    {
      "cell_type": "code",
      "source": [
        "# Define the ticker list\n",
        "# Fetch the data\n",
        "import yfinance as yf\n",
        "import pandas as pd\n",
        "# import statsmodels.formula.api\n",
        "import statsmodels.api\n",
        "\n",
        "tickers_list = ['AAPL', 'MSFT', 'AMZN' , 'NVDA' ,\n",
        "                'GOOGL' , 'GOOG' ,\n",
        "                'XOM' , 'META' , 'TSLA' , 'UNH'\n",
        "]\n",
        "\n",
        "\n",
        "data = yf.download(tickers_list , start = \"2022-5-1\" , end = \"2023-5-1\")['Close']\n",
        "\n",
        "for column1 in tickers_list:\n",
        "  for column2 in tickers_list:\n",
        "    if column1 == column2 :\n",
        "      continue\n",
        "\n",
        "    for column3 in tickers_list:\n",
        "      if column3 == column2 or column3 == column1:\n",
        "        continue\n",
        "\n",
        "      johansen_test(data , column1 , column2 , column3)\n",
        "\n"
      ],
      "metadata": {
        "id": "vgNJXzMcEnub"
      },
      "execution_count": null,
      "outputs": []
    },
    {
      "cell_type": "code",
      "execution_count": null,
      "metadata": {
        "id": "cVMix1qtR90g"
      },
      "outputs": [],
      "source": [
        "# Define the ticker list\n",
        "import pandas as pd\n",
        "tickers_list = ['AAPL', 'MSFT', 'AMZN' , 'NVDA' , 'GOOGL' , 'GOOG' ,\n",
        "                'XOM' , 'META' , 'TSLA' , 'UNH'\n",
        "]\n",
        "\n",
        "# Fetch the data\n",
        "import yfinance as yf\n",
        "# data = yf.download(tickers_list , start = \"2022-5-1\" , end = \"2023-5-1\")['Close']\n",
        "\n",
        "AAPL  =  yf.download('AAPL' , start = \"2022-5-1\" , end = \"2023-5-1\")['Close']\n",
        "MSFT  =  yf.download('MSFT' , start = \"2022-5-1\" , end = \"2023-5-1\")['Close']\n",
        "AMZN  =  yf.download('AMZN' , start = \"2022-5-1\" , end = \"2023-5-1\")['Close']\n",
        "NVDA  =  yf.download('NVDA' , start = \"2022-5-1\" , end = \"2023-5-1\")['Close']\n",
        "\n",
        "GOOGL = yf.download('GOOGL' , start = \"2022-5-1\" , end = \"2023-5-1\")['Close']\n",
        "GOOG  = yf.download('GOOG' , start = \"2022-5-1\" , end = \"2023-5-1\")['Close']\n",
        "XOM   = yf.download('XOM' , start = \"2022-5-1\" , end = \"2023-5-1\")['Close']\n",
        "META  = yf.download('META' , start = \"2022-5-1\" , end = \"2023-5-1\")['Close']\n",
        "TSLA  = yf.download('TSLA' , start = \"2022-5-1\" , end = \"2023-5-1\")['Close']\n",
        "UNH   = yf.download('UNH' , start = \"2022-5-1\" , end = \"2023-5-1\")['Close']"
      ]
    },
    {
      "cell_type": "markdown",
      "source": [
        "> > > > # CADF Test"
      ],
      "metadata": {
        "id": "F8DruUWJpRpJ"
      }
    },
    {
      "cell_type": "code",
      "source": [
        "import numpy as np\n",
        "from statsmodels.regression.linear_model import OLS\n",
        "from statsmodels.tsa.tsatools import lagmat, add_trend\n",
        "from statsmodels.tsa.adfvalues import mackinnonp\n",
        "\n",
        "def adf(ts, maxlag=1):\n",
        "    \"\"\"\n",
        "    Augmented Dickey-Fuller unit root test\n",
        "    \"\"\"\n",
        "    # make sure we are working with an array, convert if necessary\n",
        "    ts = np.asarray(ts)\n",
        "\n",
        "    # Get the dimension of the array\n",
        "    nobs = ts.shape[0]\n",
        "\n",
        "    # Calculate the discrete difference\n",
        "    tsdiff = np.diff(ts)\n",
        "\n",
        "    # Create a 2d array of lags, trim invalid observations on both sides\n",
        "    tsdall = lagmat(tsdiff[:, None], maxlag, trim='both', original='in')\n",
        "    # Get dimension of the array\n",
        "    nobs = tsdall.shape[0]\n",
        "\n",
        "    # replace 0 xdiff with level of x\n",
        "    tsdall[:, 0] = ts[-nobs - 1:-1]\n",
        "    tsdshort = tsdiff[-nobs:]\n",
        "\n",
        "\n",
        "    # Calculate the linear regression using an ordinary least squares model\n",
        "    results = OLS(tsdshort, add_trend(tsdall[:, :maxlag + 1], 'c')).fit()\n",
        "\n",
        "\n",
        "    # print(results)\n",
        "    adfstat = results.tvalues[0]\n",
        "\n",
        "    # Get approx p-value from a precomputed table (from stattools)\n",
        "    pvalue = mackinnonp(adfstat, 'c', N=1)\n",
        "    # print(f'pvalue : {pvalue}')\n",
        "    return pvalue\n",
        "\n",
        "def cadf(x, y):\n",
        "    \"\"\"\n",
        "    Returns the result of the Cointegrated Augmented Dickey-Fuller Test\n",
        "    \"\"\"\n",
        "    # Calculate the linear regression between the two time series\n",
        "    ols_result = OLS(x, y).fit()\n",
        "\n",
        "    # Augmented Dickey-Fuller unit root test\n",
        "    return adf(ols_result.resid)"
      ],
      "metadata": {
        "id": "6do4gThmpQvP"
      },
      "execution_count": null,
      "outputs": []
    },
    {
      "cell_type": "markdown",
      "source": [
        "# Hurst Exponent"
      ],
      "metadata": {
        "id": "n6coO5xonS83"
      }
    },
    {
      "cell_type": "code",
      "source": [
        "!pip install hurst"
      ],
      "metadata": {
        "colab": {
          "base_uri": "https://localhost:8080/"
        },
        "id": "-W5MXlfCjklg",
        "outputId": "5bf44eab-01a5-4f76-f6a1-4909d803fedf"
      },
      "execution_count": null,
      "outputs": [
        {
          "output_type": "stream",
          "name": "stdout",
          "text": [
            "Looking in indexes: https://pypi.org/simple, https://us-python.pkg.dev/colab-wheels/public/simple/\n",
            "Collecting hurst\n",
            "  Downloading hurst-0.0.5-py3-none-any.whl (5.9 kB)\n",
            "Requirement already satisfied: pandas>=0.18 in /usr/local/lib/python3.10/dist-packages (from hurst) (1.5.3)\n",
            "Requirement already satisfied: numpy>=1.10 in /usr/local/lib/python3.10/dist-packages (from hurst) (1.22.4)\n",
            "Requirement already satisfied: python-dateutil>=2.8.1 in /usr/local/lib/python3.10/dist-packages (from pandas>=0.18->hurst) (2.8.2)\n",
            "Requirement already satisfied: pytz>=2020.1 in /usr/local/lib/python3.10/dist-packages (from pandas>=0.18->hurst) (2022.7.1)\n",
            "Requirement already satisfied: six>=1.5 in /usr/local/lib/python3.10/dist-packages (from python-dateutil>=2.8.1->pandas>=0.18->hurst) (1.16.0)\n",
            "Installing collected packages: hurst\n",
            "Successfully installed hurst-0.0.5\n"
          ]
        }
      ]
    },
    {
      "cell_type": "code",
      "source": [
        "import numpy as np\n",
        "import matplotlib.pyplot as plt\n",
        "from hurst import compute_Hc, random_walk\n",
        "\n",
        "np.random.seed(42)\n",
        "random_changes = 1. + np.random.randn(99999) / 1000.\n",
        "series = np.cumprod(random_changes)  # create a random walk from random changes\n",
        "\n",
        "import matplotlib.pyplot as plt\n",
        "from hurst import compute_Hc, random_walk\n",
        "# Evaluate Hurst equation\n",
        "H, c, data = compute_Hc(AAPL , kind='price', simplified=True)\n",
        "\n",
        "# Plot\n",
        "f, ax = plt.subplots()\n",
        "ax.plot(data[0], c*data[0]**H, color=\"deepskyblue\")\n",
        "ax.scatter(data[0], data[1], color=\"purple\")\n",
        "ax.set_xscale('log')\n",
        "ax.set_yscale('log')\n",
        "ax.set_xlabel('Time interval')\n",
        "ax.set_ylabel('R/S ratio')\n",
        "ax.grid(True)\n",
        "plt.show()\n",
        "\n",
        "print(\"H={:.4f}, c={:.4f}\".format(H,c))"
      ],
      "metadata": {
        "id": "5BetOxJinVqb",
        "colab": {
          "base_uri": "https://localhost:8080/",
          "height": 471
        },
        "outputId": "aa8bbe60-a50d-41e4-d075-cdfb7e4abd7d"
      },
      "execution_count": null,
      "outputs": [
        {
          "output_type": "display_data",
          "data": {
            "text/plain": [
              "<Figure size 640x480 with 1 Axes>"
            ],
            "image/png": "[encoded data removed]"
          },
          "metadata": {}
        },
        {
          "output_type": "stream",
          "name": "stdout",
          "text": [
            "H=0.4630, c=1.5622\n"
          ]
        }
      ]
    }
  ]
}