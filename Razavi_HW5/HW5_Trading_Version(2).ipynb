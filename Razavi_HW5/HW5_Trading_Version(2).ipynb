{
  "nbformat": 4,
  "nbformat_minor": 0,
  "metadata": {
    "colab": {
      "provenance": []
    },
    "kernelspec": {
      "name": "python3",
      "display_name": "Python 3"
    },
    "language_info": {
      "name": "python"
    }
  },
  "cells": [
    {
      "cell_type": "code",
      "source": [
        "!pip install hurst"
      ],
      "metadata": {
        "colab": {
          "base_uri": "https://localhost:8080/"
        },
        "id": "jsM4vSllcPnc",
        "outputId": "dc37c5d9-b772-4126-f4da-b2f45b2ca0e3"
      },
      "execution_count": 3,
      "outputs": [
        {
          "output_type": "stream",
          "name": "stdout",
          "text": [
            "Looking in indexes: https://pypi.org/simple, https://us-python.pkg.dev/colab-wheels/public/simple/\n",
            "Collecting hurst\n",
            "  Downloading hurst-0.0.5-py3-none-any.whl (5.9 kB)\n",
            "Requirement already satisfied: pandas>=0.18 in /usr/local/lib/python3.10/dist-packages (from hurst) (1.5.3)\n",
            "Requirement already satisfied: numpy>=1.10 in /usr/local/lib/python3.10/dist-packages (from hurst) (1.22.4)\n",
            "Requirement already satisfied: python-dateutil>=2.8.1 in /usr/local/lib/python3.10/dist-packages (from pandas>=0.18->hurst) (2.8.2)\n",
            "Requirement already satisfied: pytz>=2020.1 in /usr/local/lib/python3.10/dist-packages (from pandas>=0.18->hurst) (2022.7.1)\n",
            "Requirement already satisfied: six>=1.5 in /usr/local/lib/python3.10/dist-packages (from python-dateutil>=2.8.1->pandas>=0.18->hurst) (1.16.0)\n",
            "Installing collected packages: hurst\n",
            "Successfully installed hurst-0.0.5\n"
          ]
        }
      ]
    },
    {
      "cell_type": "markdown",
      "source": [
        "# Half Life of time-seri"
      ],
      "metadata": {
        "id": "pAjPF-xExBBM"
      }
    },
    {
      "cell_type": "code",
      "source": [
        "import numpy as np\n",
        "import statsmodels.api as sm\n",
        "from math import log\n",
        "\n",
        "\n",
        "def half_life(z_array):\n",
        "  z_lag = np.roll(z_array,1)\n",
        "  z_lag[0] = 0\n",
        "  z_ret = z_array - z_lag\n",
        "  z_ret[0] = 0\n",
        "\n",
        "  #adds intercept terms to X variable for regression\n",
        "  z_lag2 = sm.add_constant(z_lag)\n",
        "\n",
        "  model = sm.OLS(z_ret,z_lag2)\n",
        "  res = model.fit()\n",
        "\n",
        "  halflife = -log(2) / res.params[1]\n",
        "\n",
        "  return halflife\n"
      ],
      "metadata": {
        "id": "FlUNjP_qw_j6"
      },
      "execution_count": 10,
      "outputs": []
    },
    {
      "cell_type": "code",
      "source": [
        "import yfinance as yf\n",
        "import pandas as pd\n",
        "import matplotlib.pyplot as plt\n",
        "import statsmodels.api\n",
        "from hurst import compute_Hc, random_walk\n",
        "import statsmodels.api\n",
        "\n",
        "\n",
        "# data = yf.download(tickers_list , start = \"2022-5-1\" , end = \"2023-5-1\")['Close']\n",
        "# global data\n",
        "\n",
        "\n",
        "p_values_stocks = {}\n",
        "hurst_exponent_stocks = {}\n",
        "half_life_stocks = {}\n",
        "\n",
        "def johansen_test_2(data , column1 , column2 ):\n",
        "\n",
        "    result = statsmodels.tsa.vector_ar.vecm.coint_johansen(data[[column1 , column2 ]],\n",
        "                                                          det_order = 0  ,\n",
        "                                                          k_ar_diff = 3)\n",
        "\n",
        "\n",
        "    # print(f'{column1} , {column2} , {column3}')\n",
        "    # print(f'result.max_eig_stat : {result.max_eig_stat}')\n",
        "\n",
        "    h1 = result.max_eig_stat[0]\n",
        "    h2 = result.max_eig_stat[1]\n",
        "\n",
        "\n",
        "    new_stationary_seri = h1 * data[column1] + h2 * data[column2]\n",
        "    # new_stationary_seri\n",
        "\n",
        "    # Evaluate Hurst equation\n",
        "    hurst , c, data = compute_Hc(new_stationary_seri , kind='price', simplified=True)\n",
        "\n",
        "    # print(f'-------------  p_value : {p_value}       -----------------')\n",
        "    p_value = adf(new_stationary_seri)\n",
        "\n",
        "    key = column1 + ' , ' + column2\n",
        "\n",
        "    p_values_stocks[key] = p_value\n",
        "    hurst_exponent_stocks[key] = hurst\n",
        "\n",
        "    half = half_life(new_stationary_seri)\n",
        "    half_life_stocks[key] = half\n",
        "\n",
        "    if p_value < 0.1 :\n",
        "      print('\\lr{ ')\n",
        "      print(key)\n",
        "      print(' }')\n",
        "\n",
        "      print()\n",
        "\n",
        "      print('\\lr{ ')\n",
        "      print(f'-------------  pValue : {p_value}       -----')\n",
        "      print(' }')\n",
        "\n",
        "      print()\n",
        "\n",
        "      print('\\lr{ ')\n",
        "      print(f'-------------  hurst : {hurst}           -----')\n",
        "      print(' }')\n",
        "\n",
        "      print()\n",
        "\n",
        "      print('\\lr{ ')\n",
        "      print(f'-------------  halfLife : {half}        -----')\n",
        "      print(' }')\n",
        "\n",
        "      print()\n",
        "\n",
        "    return p_value"
      ],
      "metadata": {
        "id": "yvVf254dDtWx"
      },
      "execution_count": 25,
      "outputs": []
    },
    {
      "cell_type": "code",
      "source": [
        "tickers_list = ['AAPL', 'MSFT', 'AMZN' , 'NVDA' , 'GOOGL' , 'GOOG' ,\n",
        "                'XOM' , 'META' , 'TSLA' , 'UNH'\n",
        "]\n",
        "\n",
        "\n",
        "data = yf.download(tickers_list , start = \"2022-5-1\" , end = \"2023-5-1\")['Close']\n",
        "\n",
        "for col1 in tickers_list:\n",
        "  for col2 in tickers_list :\n",
        "    if col1 == col2 :\n",
        "      continue\n",
        "\n",
        "    johansen_test_2(data , col1 , col2 )\n"
      ],
      "metadata": {
        "colab": {
          "base_uri": "https://localhost:8080/"
        },
        "id": "fzBFrP9sv37c",
        "outputId": "122c8465-931b-47e8-d0e9-2fd969c1035c"
      },
      "execution_count": 26,
      "outputs": [
        {
          "output_type": "stream",
          "name": "stdout",
          "text": [
            "[*********************100%***********************]  10 of 10 completed\n",
            "\\lr{ \n",
            "GOOGL , XOM\n",
            " }\n",
            "\n",
            "\\lr{ \n",
            "-------------  pValue : 0.07282683300825328       -----\n",
            " }\n",
            "\n",
            "\\lr{ \n",
            "-------------  hurst : 0.4189310404622397           -----\n",
            " }\n",
            "\n",
            "\\lr{ \n",
            "-------------  halfLife : 24.341578646977933        -----\n",
            " }\n",
            "\n",
            "\\lr{ \n",
            "GOOG , XOM\n",
            " }\n",
            "\n",
            "\\lr{ \n",
            "-------------  pValue : 0.07223405746608141       -----\n",
            " }\n",
            "\n",
            "\\lr{ \n",
            "-------------  hurst : 0.42245969005834394           -----\n",
            " }\n",
            "\n",
            "\\lr{ \n",
            "-------------  halfLife : 24.32742179592016        -----\n",
            " }\n",
            "\n",
            "\\lr{ \n",
            "XOM , TSLA\n",
            " }\n",
            "\n",
            "\\lr{ \n",
            "-------------  pValue : 0.04978805395169708       -----\n",
            " }\n",
            "\n",
            "\\lr{ \n",
            "-------------  hurst : 0.3204844136821401           -----\n",
            " }\n",
            "\n",
            "\\lr{ \n",
            "-------------  halfLife : 23.330996977287143        -----\n",
            " }\n",
            "\n"
          ]
        }
      ]
    },
    {
      "cell_type": "code",
      "source": [
        "import numpy as np\n",
        "from statsmodels.regression.linear_model import OLS\n",
        "from statsmodels.tsa.tsatools import lagmat, add_trend\n",
        "from statsmodels.tsa.adfvalues import mackinnonp\n",
        "\n",
        "def adf(ts, maxlag=1):\n",
        "    \"\"\"\n",
        "    Augmented Dickey-Fuller unit root test\n",
        "    \"\"\"\n",
        "    # make sure we are working with an array, convert if necessary\n",
        "    ts = np.asarray(ts)\n",
        "\n",
        "    # Get the dimension of the array\n",
        "    nobs = ts.shape[0]\n",
        "\n",
        "    # Calculate the discrete difference\n",
        "    tsdiff = np.diff(ts)\n",
        "\n",
        "    # Create a 2d array of lags, trim invalid observations on both sides\n",
        "    tsdall = lagmat(tsdiff[:, None], maxlag, trim='both', original='in')\n",
        "    # Get dimension of the array\n",
        "    nobs = tsdall.shape[0]\n",
        "\n",
        "    # replace 0 xdiff with level of x\n",
        "    tsdall[:, 0] = ts[-nobs - 1:-1]\n",
        "    tsdshort = tsdiff[-nobs:]\n",
        "\n",
        "\n",
        "    # Calculate the linear regression using an ordinary least squares model\n",
        "    results = OLS(tsdshort, add_trend(tsdall[:, :maxlag + 1], 'c')).fit()\n",
        "\n",
        "\n",
        "    # print(results)\n",
        "    adfstat = results.tvalues[0]\n",
        "\n",
        "    # Get approx p-value from a precomputed table (from stattools)\n",
        "    pvalue = mackinnonp(adfstat, 'c', N=1)\n",
        "    # print(f'pvalue : {pvalue}')\n",
        "    return pvalue\n",
        "\n",
        "def cadf(x, y):\n",
        "    \"\"\"\n",
        "    Returns the result of the Cointegrated Augmented Dickey-Fuller Test\n",
        "    \"\"\"\n",
        "    # Calculate the linear regression between the two time series\n",
        "    ols_result = OLS(x, y).fit()\n",
        "\n",
        "    # Augmented Dickey-Fuller unit root test\n",
        "    return adf(ols_result.resid)"
      ],
      "metadata": {
        "id": "K9mGxxKOclEn"
      },
      "execution_count": 5,
      "outputs": []
    }
  ]
}